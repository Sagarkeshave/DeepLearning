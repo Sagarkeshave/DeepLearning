{
 "cells": [
  {
   "cell_type": "markdown",
   "id": "9e41eda8-6581-41de-abcd-6fe2ad20cc18",
   "metadata": {},
   "source": [
    "# Convolutional Neural Network"
   ]
  },
  {
   "cell_type": "markdown",
   "id": "c83564be-89b2-49e8-a246-8d45c165cef0",
   "metadata": {},
   "source": [
    "### Imports"
   ]
  },
  {
   "cell_type": "code",
   "execution_count": 1,
   "id": "0fab92e7-230a-4256-8fe1-3755b5b44c4a",
   "metadata": {},
   "outputs": [],
   "source": [
    "import tensorflow as tf\n",
    "from keras.preprocessing.image import ImageDataGenerator"
   ]
  },
  {
   "cell_type": "code",
   "execution_count": 2,
   "id": "5390c9d5-8447-47c2-83b4-abe892017350",
   "metadata": {},
   "outputs": [
    {
     "data": {
      "text/plain": [
       "'2.11.0'"
      ]
     },
     "execution_count": 2,
     "metadata": {},
     "output_type": "execute_result"
    }
   ],
   "source": [
    "tf.__version__"
   ]
  },
  {
   "cell_type": "markdown",
   "id": "a09fdde7-5913-4fc8-a4ba-0a80f89f6cef",
   "metadata": {},
   "source": [
    "## Part 1 - Data Preprocessing"
   ]
  },
  {
   "cell_type": "markdown",
   "id": "f8880bfd-6372-4e12-ad54-e69cda630e04",
   "metadata": {},
   "source": [
    "### Processing training dataset"
   ]
  },
  {
   "cell_type": "markdown",
   "id": "2c5a284f-b812-45f9-9310-ee1e57fe02cf",
   "metadata": {},
   "source": [
    "**Image Augmentation**\n",
    "\n",
    ">* Data augmentation is the addtion of data by applying `transformations` on existing training data. Techniques include `resizing, flipping, rotating, cropping, padding,` on existing data set to increase image/data diversity as well as to feed more data for training purpose. It helps to address issues like overfitting and data scarcity, and it makes the model robust with better performance"
   ]
  },
  {
   "cell_type": "code",
   "execution_count": 3,
   "id": "03467617-41cd-46f7-8417-0ace5f1e5317",
   "metadata": {},
   "outputs": [
    {
     "name": "stdout",
     "output_type": "stream",
     "text": [
      "Found 8000 images belonging to 2 classes.\n"
     ]
    }
   ],
   "source": [
    "train_datagen = ImageDataGenerator(rescale = 1./255,\n",
    "                                   shear_range = 0.2,\n",
    "                                   zoom_range = 0.2,\n",
    "                                   horizontal_flip = True)\n",
    "training_set = train_datagen.flow_from_directory('dataset/training_set',\n",
    "                                                 target_size = (64, 64),\n",
    "                                                 batch_size = 32,\n",
    "                                                 class_mode = 'binary')"
   ]
  },
  {
   "cell_type": "markdown",
   "id": "26207455-3f32-4056-b4f3-fb484e1a01e7",
   "metadata": {},
   "source": [
    "### Processing Test Set"
   ]
  },
  {
   "cell_type": "code",
   "execution_count": 4,
   "id": "b3d912a0-ac5b-4320-a634-e6af66d2476b",
   "metadata": {},
   "outputs": [
    {
     "name": "stdout",
     "output_type": "stream",
     "text": [
      "Found 2000 images belonging to 2 classes.\n"
     ]
    }
   ],
   "source": [
    "test_datagen = ImageDataGenerator(rescale=1./255)\n",
    "test__set = test_datagen.flow_from_directory(\"dataset/test_set\",\n",
    "                                             target_size = (64, 64),\n",
    "                                             batch_size = 32,\n",
    "                                             class_mode = \"binary\" )"
   ]
  },
  {
   "cell_type": "markdown",
   "id": "f42f195a-09fe-48ee-991b-a7b0e68d18a6",
   "metadata": {},
   "source": [
    "## Part 2 Building the CNN"
   ]
  },
  {
   "cell_type": "markdown",
   "id": "3fd96da7-c22a-4a5e-a8fd-7cbd98c1b094",
   "metadata": {},
   "source": [
    "### Initializing the CNN"
   ]
  },
  {
   "cell_type": "code",
   "execution_count": 5,
   "id": "36813781-cb0d-478e-8e95-ebcd61c69f3b",
   "metadata": {},
   "outputs": [],
   "source": [
    "cnn = tf.keras.models.Sequential()"
   ]
  },
  {
   "cell_type": "markdown",
   "id": "d3cab892-1fcb-45fc-9bee-d5cf8791c11f",
   "metadata": {},
   "source": [
    "### Step 1 Convolution layer"
   ]
  },
  {
   "cell_type": "code",
   "execution_count": 6,
   "id": "d67a2a43-c6fa-4b57-80af-308670bfa80a",
   "metadata": {},
   "outputs": [],
   "source": [
    "cnn.add(tf.keras.layers.Conv2D(filters=32, \n",
    "                               kernel_size=3, # Feature metrics \n",
    "                               activation='relu', # Rectifier \n",
    "                               input_shape=[64, 64, 3])) # Image shape   3 bcz colored images for black n white 1"
   ]
  },
  {
   "cell_type": "markdown",
   "id": "68b460b3-c832-4807-beb8-4d13113fc698",
   "metadata": {},
   "source": [
    "### Step 2 - Pooling "
   ]
  },
  {
   "cell_type": "code",
   "execution_count": 7,
   "id": "35fce492-1996-49ed-aaca-973d34d1d6db",
   "metadata": {},
   "outputs": [],
   "source": [
    "cnn.add(tf.keras.layers.MaxPool2D(pool_size= 2, strides=2))"
   ]
  },
  {
   "cell_type": "markdown",
   "id": "bdabca26-4e75-4347-86ae-5985b234bba1",
   "metadata": {},
   "source": [
    "### Adding second convolutionl layer"
   ]
  },
  {
   "cell_type": "code",
   "execution_count": 8,
   "id": "d6953ffc-3818-4cc9-9fe2-456ea4080e25",
   "metadata": {},
   "outputs": [],
   "source": [
    "cnn.add(tf.keras.layers.Conv2D(filters=32, kernel_size=3, activation=\"relu\"))\n",
    "cnn.add(tf.keras.layers.MaxPool2D(pool_size= 2, strides=2))"
   ]
  },
  {
   "cell_type": "markdown",
   "id": "6b87b0b0-b691-49f3-9a3f-ad3e1672d012",
   "metadata": {},
   "source": [
    "### Step - 3 Flattening"
   ]
  },
  {
   "cell_type": "code",
   "execution_count": 9,
   "id": "40edff07-781d-4662-bceb-fd12eb404d11",
   "metadata": {},
   "outputs": [],
   "source": [
    "cnn.add(tf.keras.layers.Flatten())"
   ]
  },
  {
   "cell_type": "markdown",
   "id": "b67db32f-f1be-4dd5-bbae-919ad19115c1",
   "metadata": {},
   "source": [
    "### Step 4 - Full connection"
   ]
  },
  {
   "cell_type": "code",
   "execution_count": 10,
   "id": "6264f0c4-91af-489b-9b2b-b3d896525afe",
   "metadata": {},
   "outputs": [],
   "source": [
    "cnn.add(tf.keras.layers.Dense(units=128, activation=\"relu\"))"
   ]
  },
  {
   "cell_type": "markdown",
   "id": "bb3e0297-e5cd-46bf-9f9c-9e49c294fc95",
   "metadata": {},
   "source": [
    "### Step 5 - output layer"
   ]
  },
  {
   "cell_type": "code",
   "execution_count": 11,
   "id": "fd5853fe-eb6f-4c0c-970d-0c114f5eb1f7",
   "metadata": {},
   "outputs": [],
   "source": [
    "cnn.add(tf.keras.layers.Dense(units=1, \n",
    "                              activation=\"sigmoid\") )  # for single class. For multi-class `softmax`"
   ]
  },
  {
   "cell_type": "markdown",
   "id": "a30b4d5d-1d44-4229-9b4c-8258f8eedc82",
   "metadata": {},
   "source": [
    "## Part 3 - Training the CNN"
   ]
  },
  {
   "cell_type": "markdown",
   "id": "6789a0c9-e37b-4e9b-8e16-f3a1cc96960f",
   "metadata": {},
   "source": [
    "### Compiling CNN\n"
   ]
  },
  {
   "cell_type": "code",
   "execution_count": 12,
   "id": "e22b36cd-799e-48aa-800e-27b3cb5fc91c",
   "metadata": {},
   "outputs": [],
   "source": [
    "cnn.compile(optimizer=\"adam\", loss=\"binary_crossentropy\", metrics=[\"accuracy\"])"
   ]
  },
  {
   "cell_type": "markdown",
   "id": "870098f6-8a81-4cb6-83d3-dc70e76e5757",
   "metadata": {},
   "source": [
    "### Training CNN on Train set"
   ]
  },
  {
   "cell_type": "code",
   "execution_count": 13,
   "id": "c7b2d574-d15e-4dfe-add1-8333ed574069",
   "metadata": {},
   "outputs": [
    {
     "name": "stdout",
     "output_type": "stream",
     "text": [
      "Epoch 1/25\n",
      "250/250 [==============================] - 40s 157ms/step - loss: 0.6745 - accuracy: 0.5789 - val_loss: 0.7341 - val_accuracy: 0.5655\n",
      "Epoch 2/25\n",
      "250/250 [==============================] - 41s 164ms/step - loss: 0.6237 - accuracy: 0.6633 - val_loss: 0.5911 - val_accuracy: 0.6965\n",
      "Epoch 3/25\n",
      "250/250 [==============================] - 50s 199ms/step - loss: 0.5665 - accuracy: 0.7063 - val_loss: 0.5549 - val_accuracy: 0.7295\n",
      "Epoch 4/25\n",
      "250/250 [==============================] - 48s 194ms/step - loss: 0.5394 - accuracy: 0.7304 - val_loss: 0.5472 - val_accuracy: 0.7305\n",
      "Epoch 5/25\n",
      "250/250 [==============================] - 40s 161ms/step - loss: 0.4973 - accuracy: 0.7617 - val_loss: 0.5986 - val_accuracy: 0.6860\n",
      "Epoch 6/25\n",
      "250/250 [==============================] - 38s 152ms/step - loss: 0.4787 - accuracy: 0.7726 - val_loss: 0.5806 - val_accuracy: 0.7215\n",
      "Epoch 7/25\n",
      "250/250 [==============================] - 38s 151ms/step - loss: 0.4626 - accuracy: 0.7822 - val_loss: 0.5029 - val_accuracy: 0.7705\n",
      "Epoch 8/25\n",
      "250/250 [==============================] - 39s 154ms/step - loss: 0.4422 - accuracy: 0.7926 - val_loss: 0.5950 - val_accuracy: 0.6950\n",
      "Epoch 9/25\n",
      "250/250 [==============================] - 38s 153ms/step - loss: 0.4269 - accuracy: 0.7983 - val_loss: 0.4869 - val_accuracy: 0.7750\n",
      "Epoch 10/25\n",
      "250/250 [==============================] - 38s 153ms/step - loss: 0.4069 - accuracy: 0.8150 - val_loss: 0.4760 - val_accuracy: 0.7785\n",
      "Epoch 11/25\n",
      "250/250 [==============================] - 38s 153ms/step - loss: 0.3947 - accuracy: 0.8224 - val_loss: 0.4461 - val_accuracy: 0.8020\n",
      "Epoch 12/25\n",
      "250/250 [==============================] - 38s 153ms/step - loss: 0.3860 - accuracy: 0.8239 - val_loss: 0.4588 - val_accuracy: 0.7840\n",
      "Epoch 13/25\n",
      "250/250 [==============================] - 38s 153ms/step - loss: 0.3571 - accuracy: 0.8401 - val_loss: 0.4730 - val_accuracy: 0.8000\n",
      "Epoch 14/25\n",
      "250/250 [==============================] - 39s 154ms/step - loss: 0.3567 - accuracy: 0.8382 - val_loss: 0.4791 - val_accuracy: 0.7865\n",
      "Epoch 15/25\n",
      "250/250 [==============================] - 39s 154ms/step - loss: 0.3300 - accuracy: 0.8586 - val_loss: 0.4717 - val_accuracy: 0.7985\n",
      "Epoch 16/25\n",
      "250/250 [==============================] - 39s 154ms/step - loss: 0.3119 - accuracy: 0.8636 - val_loss: 0.4724 - val_accuracy: 0.8045\n",
      "Epoch 17/25\n",
      "250/250 [==============================] - 39s 155ms/step - loss: 0.2944 - accuracy: 0.8737 - val_loss: 0.5243 - val_accuracy: 0.7980\n",
      "Epoch 18/25\n",
      "250/250 [==============================] - 39s 155ms/step - loss: 0.2740 - accuracy: 0.8835 - val_loss: 0.5005 - val_accuracy: 0.8045\n",
      "Epoch 19/25\n",
      "250/250 [==============================] - 39s 154ms/step - loss: 0.2632 - accuracy: 0.8910 - val_loss: 0.6231 - val_accuracy: 0.7725\n",
      "Epoch 20/25\n",
      "250/250 [==============================] - 46s 184ms/step - loss: 0.2480 - accuracy: 0.8970 - val_loss: 0.5274 - val_accuracy: 0.8020\n",
      "Epoch 21/25\n",
      "250/250 [==============================] - 43s 172ms/step - loss: 0.2415 - accuracy: 0.9009 - val_loss: 0.5214 - val_accuracy: 0.8030\n",
      "Epoch 22/25\n",
      "250/250 [==============================] - 39s 156ms/step - loss: 0.2133 - accuracy: 0.9134 - val_loss: 0.5265 - val_accuracy: 0.8105\n",
      "Epoch 23/25\n",
      "250/250 [==============================] - 39s 156ms/step - loss: 0.2128 - accuracy: 0.9114 - val_loss: 0.5581 - val_accuracy: 0.8110\n",
      "Epoch 24/25\n",
      "250/250 [==============================] - 39s 156ms/step - loss: 0.1866 - accuracy: 0.9271 - val_loss: 0.5538 - val_accuracy: 0.8055\n",
      "Epoch 25/25\n",
      "250/250 [==============================] - 39s 156ms/step - loss: 0.1781 - accuracy: 0.9294 - val_loss: 0.6266 - val_accuracy: 0.8120\n",
      "CPU times: total: 22min 2s\n",
      "Wall time: 16min 42s\n"
     ]
    },
    {
     "data": {
      "text/plain": [
       "<keras.callbacks.History at 0x23d78be15b0>"
      ]
     },
     "execution_count": 13,
     "metadata": {},
     "output_type": "execute_result"
    }
   ],
   "source": [
    "%%time\n",
    "cnn.fit(x = training_set, validation_data= test__set, epochs= 25)"
   ]
  },
  {
   "cell_type": "code",
   "execution_count": 14,
   "id": "09f42419-eb59-4537-b46a-a3b212e0f1fa",
   "metadata": {},
   "outputs": [
    {
     "name": "stdout",
     "output_type": "stream",
     "text": [
      "CPU times: total: 0 ns\n",
      "Wall time: 0 ns\n"
     ]
    },
    {
     "data": {
      "text/plain": [
       "11"
      ]
     },
     "execution_count": 14,
     "metadata": {},
     "output_type": "execute_result"
    }
   ],
   "source": [
    "%%time\n",
    "5+6\n"
   ]
  },
  {
   "cell_type": "markdown",
   "id": "19930a7a-860b-4f37-a800-897b5b86855c",
   "metadata": {},
   "source": [
    "## Part 4 - Making Single Prediction\n"
   ]
  },
  {
   "cell_type": "code",
   "execution_count": 16,
   "id": "b05099f4-300f-4967-ba3a-82b878246a54",
   "metadata": {},
   "outputs": [
    {
     "name": "stdout",
     "output_type": "stream",
     "text": [
      "1/1 [==============================] - 0s 95ms/step\n"
     ]
    }
   ],
   "source": [
    "import numpy as np\n",
    "from keras import utils\n",
    "\n",
    "test_image = utils.load_img('dataset/single_prediction/cat_or_dog_1.jpg', \n",
    "                            target_size = (64, 64)) # As trained need to transform test image\n",
    "test_image = utils.img_to_array(test_image)\n",
    "test_image = np.expand_dims(test_image, axis = 0)\n",
    "result = cnn.predict(test_image/255.0)"
   ]
  },
  {
   "cell_type": "code",
   "execution_count": 17,
   "id": "d2ca1773-ad2e-438a-9052-8ab4760120c5",
   "metadata": {},
   "outputs": [
    {
     "data": {
      "text/plain": [
       "{'cats': 0, 'dogs': 1}"
      ]
     },
     "execution_count": 17,
     "metadata": {},
     "output_type": "execute_result"
    }
   ],
   "source": [
    "training_set.class_indices"
   ]
  },
  {
   "cell_type": "code",
   "execution_count": 18,
   "id": "adaca040-7cf8-4abb-b865-a40d68e12eec",
   "metadata": {},
   "outputs": [
    {
     "data": {
      "text/plain": [
       "array([[1.]], dtype=float32)"
      ]
     },
     "execution_count": 18,
     "metadata": {},
     "output_type": "execute_result"
    }
   ],
   "source": [
    "result"
   ]
  },
  {
   "cell_type": "code",
   "execution_count": 19,
   "id": "397dfb28-7d53-4607-903e-366d31a67b5d",
   "metadata": {},
   "outputs": [
    {
     "data": {
      "text/plain": [
       "1.0"
      ]
     },
     "execution_count": 19,
     "metadata": {},
     "output_type": "execute_result"
    }
   ],
   "source": [
    "result[0][0]"
   ]
  },
  {
   "cell_type": "code",
   "execution_count": 20,
   "id": "054f0425-6c9a-44e5-be5b-bef795c0c86b",
   "metadata": {},
   "outputs": [
    {
     "name": "stdout",
     "output_type": "stream",
     "text": [
      "Dog\n"
     ]
    }
   ],
   "source": [
    "if result[0][0] > 0.5:\n",
    "    prediction = \"Dog\"\n",
    "    \n",
    "else:\n",
    "    prediction = \"Cat\"\n",
    "\n",
    "print(prediction)"
   ]
  },
  {
   "cell_type": "code",
   "execution_count": null,
   "id": "df26013f-716c-4c84-866d-78cdef9c4f5f",
   "metadata": {},
   "outputs": [],
   "source": []
  },
  {
   "cell_type": "markdown",
   "id": "37875f8f-6c2b-4354-b4cb-03d77c899b83",
   "metadata": {},
   "source": [
    "## Model Saving"
   ]
  },
  {
   "cell_type": "code",
   "execution_count": null,
   "id": "73fdd5ab-6534-4ec3-8394-6142c2428669",
   "metadata": {},
   "outputs": [],
   "source": [
    "cnn.summary()"
   ]
  },
  {
   "cell_type": "code",
   "execution_count": 21,
   "id": "e2ba98fd-d57b-486a-8f07-1be0f3183939",
   "metadata": {},
   "outputs": [
    {
     "name": "stderr",
     "output_type": "stream",
     "text": [
      "WARNING:absl:Found untraced functions such as _jit_compiled_convolution_op, _jit_compiled_convolution_op, _update_step_xla while saving (showing 3 of 3). These functions will not be directly callable after loading.\n"
     ]
    },
    {
     "name": "stdout",
     "output_type": "stream",
     "text": [
      "INFO:tensorflow:Assets written to: Saved Model/CNN_1\\assets\n"
     ]
    },
    {
     "name": "stderr",
     "output_type": "stream",
     "text": [
      "INFO:tensorflow:Assets written to: Saved Model/CNN_1\\assets\n"
     ]
    }
   ],
   "source": [
    "cnn.save(\"Saved Model/CNN_1\")"
   ]
  },
  {
   "cell_type": "code",
   "execution_count": 22,
   "id": "07202fd6-9a24-4470-86d9-6aa8ee233161",
   "metadata": {},
   "outputs": [],
   "source": [
    "my_model = tf.keras.models.load_model(\"Saved Model/CNN_1\")"
   ]
  },
  {
   "cell_type": "code",
   "execution_count": 23,
   "id": "7c6f160e-d9d0-431c-b983-1d9b24d6c9e9",
   "metadata": {},
   "outputs": [
    {
     "name": "stdout",
     "output_type": "stream",
     "text": [
      "Model: \"sequential\"\n",
      "_________________________________________________________________\n",
      " Layer (type)                Output Shape              Param #   \n",
      "=================================================================\n",
      " conv2d (Conv2D)             (None, 62, 62, 32)        896       \n",
      "                                                                 \n",
      " max_pooling2d (MaxPooling2D  (None, 31, 31, 32)       0         \n",
      " )                                                               \n",
      "                                                                 \n",
      " conv2d_1 (Conv2D)           (None, 29, 29, 32)        9248      \n",
      "                                                                 \n",
      " max_pooling2d_1 (MaxPooling  (None, 14, 14, 32)       0         \n",
      " 2D)                                                             \n",
      "                                                                 \n",
      " flatten (Flatten)           (None, 6272)              0         \n",
      "                                                                 \n",
      " dense (Dense)               (None, 128)               802944    \n",
      "                                                                 \n",
      " dense_1 (Dense)             (None, 1)                 129       \n",
      "                                                                 \n",
      "=================================================================\n",
      "Total params: 813,217\n",
      "Trainable params: 813,217\n",
      "Non-trainable params: 0\n",
      "_________________________________________________________________\n"
     ]
    }
   ],
   "source": [
    "my_model.summary()"
   ]
  },
  {
   "cell_type": "code",
   "execution_count": null,
   "id": "1bf60b8a-b503-4840-a73f-a4677412048c",
   "metadata": {},
   "outputs": [],
   "source": []
  }
 ],
 "metadata": {
  "kernelspec": {
   "display_name": "Python 3 (ipykernel)",
   "language": "python",
   "name": "python3"
  },
  "language_info": {
   "codemirror_mode": {
    "name": "ipython",
    "version": 3
   },
   "file_extension": ".py",
   "mimetype": "text/x-python",
   "name": "python",
   "nbconvert_exporter": "python",
   "pygments_lexer": "ipython3",
   "version": "3.9.12"
  }
 },
 "nbformat": 4,
 "nbformat_minor": 5
}
